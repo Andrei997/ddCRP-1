{
 "cells": [
  {
   "cell_type": "markdown",
   "metadata": {},
   "source": [
    "# How to use **ddCRP**:  An example with synthetic data"
   ]
  },
  {
   "cell_type": "markdown",
   "metadata": {},
   "source": [
    "This notebook is analogous to the documentation contained in the ReadMe.md file.  We begin by importing the necessary modules.  *ddCRP* contains the actual modeling algorithm, *Priors* contains the allowed prior models (Normal-Inverse-Chi-Squared and Normal-Inverse-Wishart), and *synthetic* contains methods for sampling synthetic data."
   ]
  },
  {
   "cell_type": "code",
   "execution_count": 41,
   "metadata": {},
   "outputs": [],
   "source": [
    "from ddCRP import ddCRP\n",
    "from ddCRP import Priors\n",
    "from ddCRP import synthetic\n",
    "\n",
    "import numpy as np"
   ]
  },
  {
   "cell_type": "markdown",
   "metadata": {},
   "source": [
    "Next, we define some parameters for generating our synthetic data.  In this case, we are sampling our synthetic data from a *Normal-Inverse-Chi-Squared* model:\n",
    "\n",
    "$$\n",
    "(\\mu,\\sigma) \\sim NI \\chi^{2} (\\mu_{0},\\kappa_{0}; \\nu_{0},\\sigma^{2}_{0})\n",
    "$$\n",
    "\n",
    "where $\\mu_{0}$ and $\\kappa_{0}$ are priors on the feature means, while $\\nu_{0}$ and $\\sigma^{2}_{0}$ are priors on the feature variance.\n",
    "\n",
    "Here, for each unique label in our synthetic data, we sample $d$ unique means and variances, and then sample feature vectors from a multivariate normal distribution with independent features (a.k.a. diagonal covariance matrix, and hence the Normal-Inverse-Chi-Squared model).\n",
    "\n",
    "We could just as easily skip the Normal-Inverse-Chi-Squared aspect, and simply define a set of multivariate Normal distributions.  However, in this way, we can see how hyperparameter tuning of our ddCRP model relates to the hyperparameters of our synthetic data model."
   ]
  },
  {
   "cell_type": "code",
   "execution_count": 3,
   "metadata": {},
   "outputs": [],
   "source": [
    "# dimensionality of data\n",
    "d = 5\n",
    "\n",
    "mu = 0\n",
    "kappa = 0.0001\n",
    "nu = 9\n",
    "sigma=1"
   ]
  },
  {
   "cell_type": "markdown",
   "metadata": {},
   "source": [
    "Next, we initialize a **SampleSynthetic** object. ```kind=ell``` defines what type of synthetic data we are modeling.  Options for this parmeter include ```['ell', 'stripes', 'face', 'square']```."
   ]
  },
  {
   "cell_type": "code",
   "execution_count": 9,
   "metadata": {},
   "outputs": [
    {
     "name": "stdout",
     "output_type": "stream",
     "text": [
      "Attributes of synth: \n",
      "\n",
      "['kind', 'd', 'mu0', 'kappa0', 'nu0', 'sigma0', 'z_', 'adj_list_', 'parcels_', 'params_', 'parcel_features_', 'features_']\n"
     ]
    }
   ],
   "source": [
    "synth = synthetic.SampleSynthetic(kind='ell', d=d, mu0=0, kappa0=kappa, nu0=nu, sigma0=sigma)\n",
    "synth.fit()\n",
    "\n",
    "print('Attributes of synth: \\n')\n",
    "print(list(synth.__dict__.keys()))"
   ]
  },
  {
   "cell_type": "markdown",
   "metadata": {},
   "source": [
    "We're specifically interested in ```z_```, ```adj_list_```, and ```features_```.  ```z_``` represents the ground truth label map of our synthetic data, ```adj_list_``` is the adjancey list of our samples, and ```features_``` are the multivariate feature vectors of our data.\n",
    "\n",
    "Next, we initialize our prior model.  In this case, we'll use the **Normal-Inverse-Wishart** prior.  We need to define a multivariate mean vector prior $\\bar{\\mu_{0}}$, and a prior on the covariance matrix $\\bar{\\lambda_{0}}$ (for the inverse-Wishart distribution), along with $\\kappa_{0}$ and $\\nu_{0}$ as above."
   ]
  },
  {
   "cell_type": "code",
   "execution_count": 12,
   "metadata": {},
   "outputs": [],
   "source": [
    "mu_bar = np.zeros((d,))\n",
    "lambda_bar = np.random.rand(d,d) + np.eye(d)\n",
    "\n",
    "niw = Priors.NIW(mu0=mu_bar,kappa0=kappa,nu0=nu,lambda0=lambda_bar)"
   ]
  },
  {
   "cell_type": "markdown",
   "metadata": {},
   "source": [
    "Finally, we can initialize our ddCRP model.  We first need to define a \"concentration parameter\", $\\alpha$, that determines how likely points are to create new clusters or join an existing cluster.  We also provide some arguments that govern how many MCMC iterations we want to perform, and how often we want to sample and print out diagnostic information regarding the current state of our model."
   ]
  },
  {
   "cell_type": "code",
   "execution_count": 15,
   "metadata": {},
   "outputs": [
    {
     "name": "stdout",
     "output_type": "stream",
     "text": [
      "Step: 0 Time: -1535423038.983277 LP: -1428.235933442534 K: 86 MaxLP: -1428.235933442534\n",
      "Step: 200 Time: -1535423037.84502 LP: 79.05664565469496 K: 39 MaxLP: 79.05664565469496\n",
      "Step: 400 Time: -1535423036.7848172 LP: 1164.2113205899 K: 13 MaxLP: 1164.2113205899\n",
      "Step: 600 Time: -1535423035.720298 LP: 1531.7110938022763 K: 11 MaxLP: 1531.7110938022763\n",
      "Step: 800 Time: -1535423034.6766562 LP: 1680.7664135860002 K: 9 MaxLP: 1680.9237756908226\n",
      "Step: 1000 Time: -1535423033.644149 LP: 1721.1835505349457 K: 8 MaxLP: 1721.1835505349457\n",
      "Step: 1200 Time: -1535423032.5858352 LP: 1753.5485264093254 K: 7 MaxLP: 1753.5485264093254\n",
      "Step: 1400 Time: -1535423031.534706 LP: 1826.1528084516692 K: 6 MaxLP: 1826.1528084516692\n",
      "Step: 1600 Time: -1535423030.5029182 LP: 1840.3702242881873 K: 6 MaxLP: 1840.3702242881873\n",
      "Step: 1800 Time: -1535423029.4654272 LP: 1857.43741472072 K: 6 MaxLP: 1857.43741472072\n",
      "Step: 2000 Time: -1535423028.4108891 LP: 1962.3833731598952 K: 7 MaxLP: 1964.6859582528896\n",
      "Step: 2200 Time: -1535423027.366971 LP: 1999.4066643394794 K: 7 MaxLP: 1999.4066643394797\n",
      "Step: 2400 Time: -1535423026.329368 LP: 2039.0493339700656 K: 7 MaxLP: 2039.0493339700658\n",
      "Step: 2600 Time: -1535423025.2891612 LP: 2111.1993331143317 K: 6 MaxLP: 2111.1993331143317\n",
      "Step: 2800 Time: -1535423024.2468061 LP: 2111.199333114332 K: 6 MaxLP: 2111.199333114332\n",
      "Step: 3000 Time: -1535423023.2050612 LP: 2108.8967480213387 K: 6 MaxLP: 2111.199333114332\n",
      "Step: 3200 Time: -1535423022.1545422 LP: 2106.5941629283443 K: 6 MaxLP: 2111.199333114332\n",
      "Step: 3400 Time: -1535423021.0487032 LP: 2108.8967480213378 K: 6 MaxLP: 2111.199333114332\n",
      "Step: 3600 Time: -1535423019.9788632 LP: 2108.8967480213378 K: 6 MaxLP: 2111.199333114332\n",
      "Step: 3800 Time: -1535423018.906505 LP: 2111.1993331143312 K: 6 MaxLP: 2111.199333114332\n",
      "Step: 4000 Time: -1535423017.8568861 LP: 2111.1993331143312 K: 6 MaxLP: 2111.199333114332\n",
      "Step: 4200 Time: -1535423016.8127522 LP: 2108.896748021337 K: 6 MaxLP: 2111.199333114332\n",
      "Step: 4400 Time: -1535423015.757163 LP: 2111.1993331143303 K: 6 MaxLP: 2111.199333114332\n",
      "Step: 4600 Time: -1535423014.728836 LP: 2111.1993331143303 K: 6 MaxLP: 2111.199333114332\n",
      "Step: 4800 Time: -1535423013.650144 LP: 2111.1993331143303 K: 6 MaxLP: 2111.199333114332\n",
      "Step: 5000 Time: -1535423012.5617561 LP: 2111.1993331143303 K: 6 MaxLP: 2111.199333114332\n",
      "Step: 5200 Time: -1535423011.511418 LP: 2108.896748021336 K: 6 MaxLP: 2111.199333114332\n",
      "Step: 5400 Time: -1535423010.467694 LP: 2108.896748021336 K: 6 MaxLP: 2111.199333114332\n",
      "Step: 5600 Time: -1535423009.3956442 LP: 2108.8967480213364 K: 6 MaxLP: 2111.199333114332\n",
      "Step: 5800 Time: -1535423008.1783152 LP: 2108.896748021336 K: 6 MaxLP: 2111.199333114332\n",
      "Step: 6000 Time: -1535423007.0526512 LP: 2111.1993331143303 K: 6 MaxLP: 2111.199333114332\n",
      "Step: 6200 Time: -1535423006.018784 LP: 2106.5941629283416 K: 6 MaxLP: 2111.199333114332\n",
      "Step: 6400 Time: -1535423004.8432882 LP: 2108.896748021336 K: 6 MaxLP: 2111.199333114332\n",
      "Step: 6600 Time: -1535423003.668704 LP: 2108.896748021337 K: 6 MaxLP: 2111.199333114332\n",
      "Step: 6800 Time: -1535423002.5917232 LP: 2108.896748021337 K: 6 MaxLP: 2111.199333114332\n",
      "Step: 7000 Time: -1535423001.4672132 LP: 2106.5941629283434 K: 6 MaxLP: 2111.199333114332\n",
      "Step: 7200 Time: -1535423000.297115 LP: 2108.8967480213378 K: 6 MaxLP: 2111.199333114332\n",
      "Step: 7400 Time: -1535422999.2238922 LP: 2108.8967480213373 K: 6 MaxLP: 2111.199333114332\n",
      "Step: 7600 Time: -1535422998.1615422 LP: 2108.8967480213378 K: 6 MaxLP: 2111.199333114332\n",
      "Step: 7800 Time: -1535422997.1265981 LP: 2111.1993331143312 K: 6 MaxLP: 2111.199333114332\n",
      "Step: 8000 Time: -1535422996.0757542 LP: 2111.1993331143312 K: 6 MaxLP: 2111.199333114332\n",
      "Step: 8200 Time: -1535422995.034646 LP: 2108.896748021337 K: 6 MaxLP: 2111.199333114332\n",
      "Step: 8400 Time: -1535422993.979257 LP: 2108.896748021336 K: 6 MaxLP: 2111.199333114332\n",
      "Step: 8600 Time: -1535422992.8523552 LP: 2108.896748021336 K: 6 MaxLP: 2111.199333114332\n",
      "Step: 8800 Time: -1535422991.72213 LP: 2108.896748021336 K: 6 MaxLP: 2111.199333114332\n",
      "Step: 9000 Time: -1535422990.5486302 LP: 2108.896748021337 K: 6 MaxLP: 2111.199333114332\n",
      "Step: 9200 Time: -1535422989.364267 LP: 2111.1993331143312 K: 6 MaxLP: 2111.199333114332\n",
      "Step: 9400 Time: -1535422988.247024 LP: 2111.1993331143312 K: 6 MaxLP: 2111.199333114332\n",
      "Step: 9600 Time: -1535422987.1555462 LP: 2111.1993331143312 K: 6 MaxLP: 2111.199333114332\n",
      "Step: 9720 Time: -1535422986.507527 LP: 2111.1993331143312 K: 6 MaxLP: 2111.199333114332\n"
     ]
    }
   ],
   "source": [
    "alpha = 10\n",
    "\n",
    "crp = ddCRP.ddCRP(alpha, model=niw, mcmc_passes=30, stats_interval=200)\n",
    "crp.fit(synth.features_, synth.adj_list_, gt_z=synth.z_)"
   ]
  },
  {
   "cell_type": "markdown",
   "metadata": {},
   "source": [
    "Now we can print out the our ground truth label map, the *maximum-a-posterior* label map (i.e. the label configuration that maximizes the marginal evidence of our feature data, and the intial (essentially random) map that the ddCRP model starts out with.  The actual label values (colors) are arbitrary, and don't convey any special meaning.\n",
    "\n",
    "Below the images are plots showing the number of clusters, marginal-evidence, and current *MAP*-evidence, each as a function of MCMC iterations (the sampling frequency is determined by the ```stats_interval``` parameter in the ddCRP model instantiation)."
   ]
  },
  {
   "cell_type": "code",
   "execution_count": 40,
   "metadata": {},
   "outputs": [
    {
     "data": {
      "image/png": "[encoded data removed]",
      "text/plain": [
       "<Figure size 720x432 with 6 Axes>"
      ]
     },
     "execution_count": 40,
     "metadata": {},
     "output_type": "execute_result"
    }
   ],
   "source": [
    "plot = synthetic.plot_synthetic(synth, crp, figsize=(10,6), cmap='plasma');\n",
    "plot"
   ]
  }
 ],
 "metadata": {
  "kernelspec": {
   "display_name": "Python 3",
   "language": "python",
   "name": "python3"
  },
  "language_info": {
   "codemirror_mode": {
    "name": "ipython",
    "version": 3
   },
   "file_extension": ".py",
   "mimetype": "text/x-python",
   "name": "python",
   "nbconvert_exporter": "python",
   "pygments_lexer": "ipython3",
   "version": "3.6.5"
  }
 },
 "nbformat": 4,
 "nbformat_minor": 2
}
