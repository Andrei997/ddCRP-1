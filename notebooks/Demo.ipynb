{
 "cells": [
  {
   "cell_type": "markdown",
   "metadata": {},
   "source": [
    "# How to use **ddCRP**:  An example with synthetic data"
   ]
  },
  {
   "cell_type": "markdown",
   "metadata": {},
   "source": [
    "This notebook is analogous to the documentation contained in the ReadMe.md file.  We begin by importing the necessary modules.  *ddCRP* contains the actual modeling algorithm, *Priors* contains the allowed prior models (Normal-Inverse-Chi-Squared and Normal-Inverse-Wishart), and *synthetic* contains methods for sampling synthetic data."
   ]
  },
  {
   "cell_type": "code",
   "execution_count": 1,
   "metadata": {},
   "outputs": [],
   "source": [
    "from ddCRP import ddCRP\n",
    "from ddCRP import Priors\n",
    "from ddCRP import synthetic\n",
    "\n",
    "import numpy as np\n",
    "np.random.seed(seed=2)"
   ]
  },
  {
   "cell_type": "markdown",
   "metadata": {},
   "source": [
    "Next, we define some parameters for generating our synthetic data.  In this case, we are sampling our synthetic data from a *Normal-Inverse-Chi-Squared* model:\n",
    "\n",
    "$$\n",
    "(\\mu,\\sigma) \\sim NI \\chi^{2} (\\mu_{0},\\kappa_{0}; \\nu_{0},\\sigma^{2}_{0})\n",
    "$$\n",
    "\n",
    "where $\\mu_{0}$ and $\\kappa_{0}$ are priors on the feature means, while $\\nu_{0}$ and $\\sigma^{2}_{0}$ are priors on the feature variance.\n",
    "\n",
    "Here, for each unique label in our synthetic data, we sample $d$ unique means and variances, and then sample feature vectors from a multivariate normal distribution with independent features (a.k.a. diagonal covariance matrix, and hence the Normal-Inverse-Chi-Squared model).\n",
    "\n",
    "We could just as easily skip the Normal-Inverse-Chi-Squared aspect, and simply define a set of multivariate Normal distributions.  However, in this way, we can see how hyperparameter tuning of our ddCRP model relates to the hyperparameters of our synthetic data model."
   ]
  },
  {
   "cell_type": "code",
   "execution_count": 48,
   "metadata": {},
   "outputs": [],
   "source": [
    "# dimensionality of data\n",
    "d = 20\n",
    "\n",
    "mu = 0\n",
    "kappa = 0.01\n",
    "nu = 70\n",
    "sigma= 1"
   ]
  },
  {
   "cell_type": "markdown",
   "metadata": {},
   "source": [
    "Next, we initialize a **SampleSynthetic** object. ```kind=ell``` defines what type of synthetic data we are modeling.  Options for this parmeter include ```['ell', 'stripes', 'face', 'square']```."
   ]
  },
  {
   "cell_type": "code",
   "execution_count": 49,
   "metadata": {},
   "outputs": [
    {
     "name": "stdout",
     "output_type": "stream",
     "text": [
      "Attributes of synth: \n",
      "\n",
      "['kind', 'd', 'mu0', 'kappa0', 'nu0', 'sigma0', 'z_', 'adj_list_', 'parcels_', 'params_', 'parcel_features_', 'features_']\n"
     ]
    }
   ],
   "source": [
    "synth = synthetic.SampleSynthetic(kind='face', d=d, mu0=0, kappa0=kappa, nu0=nu, sigma0=sigma)\n",
    "synth.fit()\n",
    "\n",
    "print('Attributes of synth: \\n')\n",
    "print(list(synth.__dict__.keys()))"
   ]
  },
  {
   "cell_type": "markdown",
   "metadata": {},
   "source": [
    "We're specifically interested in ```z_```, ```adj_list_```, and ```features_```.  ```z_``` represents the ground truth label map of our synthetic data, ```adj_list_``` is the adjancey list of our samples, and ```features_``` are the multivariate feature vectors of our data.\n",
    "\n",
    "Next, we initialize our prior model.  In this case, we'll use the **Normal-Inverse-Wishart** prior.  We need to define a multivariate mean vector prior $\\bar{\\mu_{0}}$, and a prior on the covariance matrix $\\bar{\\lambda_{0}}$ (for the inverse-Wishart distribution), along with $\\kappa_{0}$ and $\\nu_{0}$ as above."
   ]
  },
  {
   "cell_type": "code",
   "execution_count": 50,
   "metadata": {},
   "outputs": [],
   "source": [
    "mu_bar = np.zeros((d,))\n",
    "lambda_bar = np.random.rand(d,d) + np.eye(d)\n",
    "\n",
    "niw = Priors.NIW(mu0=mu_bar,kappa0=kappa,nu0=nu,lambda0=lambda_bar)"
   ]
  },
  {
   "cell_type": "markdown",
   "metadata": {},
   "source": [
    "Finally, we can initialize our ddCRP model.  We first need to define a \"concentration parameter\", $\\alpha$, that determines how likely points are to create new clusters or join an existing cluster.  We also provide some arguments that govern how many MCMC iterations we want to perform, and how often we want to sample and print out diagnostic information regarding the current state of our model."
   ]
  },
  {
   "cell_type": "code",
   "execution_count": 51,
   "metadata": {},
   "outputs": [
    {
     "name": "stdout",
     "output_type": "stream",
     "text": [
      "\n",
      "Full\n",
      "Step: 0 Time: -1535503211.905437 LP: -1938.616604476415 K: 113 MaxLP: -1938.616604476415\n",
      "Step: 125 Time: -1535503211.0942729 LP: 1508.0737517893 K: 67 MaxLP: 1508.0737517893\n",
      "Step: 250 Time: -1535503210.31686 LP: 4322.259259979725 K: 34 MaxLP: 4322.259259979725\n",
      "Step: 375 Time: -1535503209.579371 LP: 6323.2778713384 K: 18 MaxLP: 6323.2778713384\n",
      "Step: 500 Time: -1535503208.848016 LP: 6683.541727922713 K: 18 MaxLP: 6683.541727922713\n",
      "Step: 625 Time: -1535503208.075311 LP: 7150.526655281772 K: 15 MaxLP: 7150.526655281772\n",
      "Step: 750 Time: -1535503207.3013668 LP: 7225.759728654182 K: 14 MaxLP: 7228.0623137471775\n",
      "Step: 875 Time: -1535503206.57491 LP: 7319.878092437237 K: 13 MaxLP: 7319.878092437237\n",
      "Step: 1000 Time: -1535503205.8059309 LP: 7482.5348048514725 K: 13 MaxLP: 7482.5348048514725\n",
      "Step: 1125 Time: -1535503205.048502 LP: 7501.727384185149 K: 13 MaxLP: 7504.029969278145\n",
      "Step: 1250 Time: -1535503204.2842748 LP: 7916.854232152658 K: 12 MaxLP: 7919.156817245652\n",
      "Step: 1375 Time: -1535503203.531919 LP: 8024.27362694362 K: 11 MaxLP: 8028.878797129608\n",
      "Step: 1500 Time: -1535503202.793551 LP: 8125.381050388017 K: 10 MaxLP: 8127.683635481012\n",
      "Step: 1625 Time: -1535503202.051256 LP: 8132.288805666998 K: 10 MaxLP: 8132.288805666999\n",
      "Step: 1750 Time: -1535503201.297685 LP: 8134.591390759993 K: 10 MaxLP: 8134.591390759993\n",
      "Step: 1875 Time: -1535503200.5592248 LP: 8129.986220574006 K: 10 MaxLP: 8134.591390759993\n",
      "Step: 2000 Time: -1535503199.823521 LP: 8127.683635481011 K: 10 MaxLP: 8134.591390759993\n",
      "Step: 2125 Time: -1535503199.0915349 LP: 8134.591390759997 K: 10 MaxLP: 8134.591390759997\n",
      "Step: 2250 Time: -1535503198.351306 LP: 8134.591390759997 K: 10 MaxLP: 8134.591390759997\n",
      "Step: 2375 Time: -1535503197.5939898 LP: 8129.98622057401 K: 10 MaxLP: 8134.591390759997\n",
      "Step: 2500 Time: -1535503196.7943468 LP: 8132.2888056670035 K: 10 MaxLP: 8134.591390759997\n",
      "Step: 2625 Time: -1535503196.056048 LP: 8222.337552313575 K: 10 MaxLP: 8224.640137406568\n",
      "Step: 2750 Time: -1535503195.259924 LP: 8226.942722499562 K: 10 MaxLP: 8226.942722499562\n",
      "Step: 2875 Time: -1535503194.4732158 LP: 8226.942722499562 K: 10 MaxLP: 8229.245307592555\n",
      "Step: 3000 Time: -1535503193.637436 LP: 8224.640137406568 K: 10 MaxLP: 8229.245307592555\n",
      "Step: 3125 Time: -1535503192.833135 LP: 8226.942722499562 K: 10 MaxLP: 8229.245307592555\n",
      "Step: 3250 Time: -1535503192.0991168 LP: 8226.942722499562 K: 10 MaxLP: 8229.245307592555\n",
      "Step: 3375 Time: -1535503191.360822 LP: 8226.942722499562 K: 10 MaxLP: 8229.245307592555\n",
      "Step: 3500 Time: -1535503190.634043 LP: 8226.942722499562 K: 10 MaxLP: 8229.245307592555\n",
      "Step: 3625 Time: -1535503189.9000468 LP: 8224.640137406568 K: 10 MaxLP: 8229.245307592555\n",
      "Step: 3750 Time: -1535503189.1373088 LP: 8224.640137406568 K: 10 MaxLP: 8229.245307592555\n",
      "Step: 3875 Time: -1535503188.3930619 LP: 8226.942722499562 K: 10 MaxLP: 8229.245307592555\n",
      "Step: 4000 Time: -1535503187.643724 LP: 8229.245307592555 K: 10 MaxLP: 8229.245307592555\n",
      "Step: 4125 Time: -1535503186.8916428 LP: 8226.942722499562 K: 10 MaxLP: 8229.245307592555\n",
      "Step: 4250 Time: -1535503186.146457 LP: 8224.640137406568 K: 10 MaxLP: 8229.245307592555\n",
      "Step: 4375 Time: -1535503185.344678 LP: 8226.942722499562 K: 10 MaxLP: 8229.245307592555\n",
      "Step: 4500 Time: -1535503184.524464 LP: 8229.245307592555 K: 10 MaxLP: 8229.245307592555\n",
      "Step: 4625 Time: -1535503183.735462 LP: 8229.245307592555 K: 10 MaxLP: 8229.245307592555\n",
      "Step: 4750 Time: -1535503183.00204 LP: 8229.245307592555 K: 10 MaxLP: 8229.245307592555\n",
      "Step: 4860 Time: -1535503182.3384109 LP: 8229.245307592555 K: 10 MaxLP: 8229.245307592555\n"
     ]
    }
   ],
   "source": [
    "alpha = 10\n",
    "\n",
    "crp = ddCRP.ddCRP(alpha, model=niw, mcmc_passes=15, stats_interval=125)\n",
    "crp.fit(synth.features_, synth.adj_list_)"
   ]
  },
  {
   "cell_type": "markdown",
   "metadata": {},
   "source": [
    "Now we can print out the our ground truth label map, the *maximum-a-posterior* label map (i.e. the label configuration that maximizes the marginal evidence of our feature data, and the intial (essentially random) map that the ddCRP model starts out with.  The actual label values (colors) are arbitrary, and don't convey any special meaning.\n",
    "\n",
    "Below the images are plots showing the number of clusters, marginal-evidence, and current *MAP*-evidence, each as a function of MCMC iterations (the sampling frequency is determined by the ```stats_interval``` parameter in the ddCRP model instantiation)."
   ]
  },
  {
   "cell_type": "code",
   "execution_count": 52,
   "metadata": {},
   "outputs": [
    {
     "data": {
      "image/png": "[encoded data removed]",
      "text/plain": [
       "<Figure size 720x432 with 6 Axes>"
      ]
     },
     "execution_count": 52,
     "metadata": {},
     "output_type": "execute_result"
    }
   ],
   "source": [
    "plot = synthetic.plot_synthetic(synth, crp, figsize=(10,6), cmap='plasma');\n",
    "plot"
   ]
  },
  {
   "cell_type": "markdown",
   "metadata": {},
   "source": [
    "$$\\begin{align}\n",
    "\\Gamma_{p}(\\alpha) = \\pi^{p(p-1)/4} \\prod _{j=1}^{p} \\Gamma(\\alpha - 1/2(j-1))\n",
    "\\end{align}$$\n"
   ]
  },
  {
   "cell_type": "markdown",
   "metadata": {},
   "source": [
    "$$\\begin{align}\n",
    "log(\\Gamma_{p}(\\alpha)) = \\frac{p(p-1)}{4} log(\\pi) \\sum _{j=1}^{p} log(\\Gamma(\\alpha - 1/2(j-1)))\n",
    "\\end{align}$$\n"
   ]
  },
  {
   "cell_type": "code",
   "execution_count": 239,
   "metadata": {},
   "outputs": [],
   "source": [
    "from scipy.special import gammaln, gamma\n",
    "def multi_gamma_ln(alpha,p):\n",
    "\n",
    "    outer = np.log(np.pi)*p*(p-1)/4\n",
    "    \n",
    "    inner = 0\n",
    "    for i in np.arange(1,p+1):\n",
    "        argument = alpha - (1/2)*(i-1)\n",
    "        inner += gammaln(argument)\n",
    "    \n",
    "    evaluation = outer * inner\n",
    "    \n",
    "    return evaluation"
   ]
  },
  {
   "cell_type": "code",
   "execution_count": 240,
   "metadata": {},
   "outputs": [
    {
     "data": {
      "text/plain": [
       "4775473.582087796"
      ]
     },
     "execution_count": 240,
     "metadata": {},
     "output_type": "execute_result"
    }
   ],
   "source": [
    "multi_gamma_ln(75/2,75)"
   ]
  },
  {
   "cell_type": "code",
   "execution_count": 247,
   "metadata": {},
   "outputs": [],
   "source": [
    "p = np.arange(1,76)\n",
    "alpha = 75"
   ]
  },
  {
   "cell_type": "code",
   "execution_count": 248,
   "metadata": {},
   "outputs": [],
   "source": [
    "outer = np.log(np.pi)*p*(p-1)/4"
   ]
  },
  {
   "cell_type": "code",
   "execution_count": 249,
   "metadata": {},
   "outputs": [],
   "source": [
    "argument = alpha - (1/2)*(p-1)"
   ]
  },
  {
   "cell_type": "code",
   "execution_count": 251,
   "metadata": {},
   "outputs": [
    {
     "data": {
      "text/plain": [
       "array([247.5729141 , 245.41919237, 243.268849  , 241.12190697,\n",
       "       238.97838956, 236.83832041, 234.70172344, 232.56862296,\n",
       "       230.43904357, 228.31301025, 226.19054832, 224.07168349,\n",
       "       221.95644182, 219.84484975, 217.73693411, 215.63272215,\n",
       "       213.53224149, 211.4355202 , 209.34258675, 207.25347006,\n",
       "       205.16819948, 203.08680484, 201.0093164 , 198.93576493,\n",
       "       196.86618167, 194.80059837, 192.73904729, 190.6815612 ,\n",
       "       188.62817342, 186.57891783, 184.53382886, 182.49294152,\n",
       "       180.45629142, 178.42391477, 176.39584841, 174.37212982,\n",
       "       172.35279714, 170.33788918, 168.32744545, 166.32150616,\n",
       "       164.32011226, 162.32330546, 160.33112822, 158.3436238 ,\n",
       "       156.3608363 , 154.38281063, 152.40959258, 150.44122883,\n",
       "       148.47776695, 146.51925549, 144.56574395, 142.61728282,\n",
       "       140.67392365, 138.73571902, 136.80272264, 134.87498931,\n",
       "       132.95257504, 131.035537  , 129.12393364, 127.21782467,\n",
       "       125.31727115, 123.42233548, 121.53308152, 119.64957455,\n",
       "       117.7718814 , 115.90007047, 114.03421178, 112.17437704,\n",
       "       110.32063971, 108.47307507, 106.63176026, 104.7967744 ,\n",
       "       102.96819861, 101.14611616,  99.33061245])"
      ]
     },
     "execution_count": 251,
     "metadata": {},
     "output_type": "execute_result"
    }
   ],
   "source": [
    "gammaln(argument)"
   ]
  },
  {
   "cell_type": "code",
   "execution_count": null,
   "metadata": {},
   "outputs": [],
   "source": []
  }
 ],
 "metadata": {
  "kernelspec": {
   "display_name": "Python 3",
   "language": "python",
   "name": "python3"
  },
  "language_info": {
   "codemirror_mode": {
    "name": "ipython",
    "version": 3
   },
   "file_extension": ".py",
   "mimetype": "text/x-python",
   "name": "python",
   "nbconvert_exporter": "python",
   "pygments_lexer": "ipython3",
   "version": "3.6.5"
  }
 },
 "nbformat": 4,
 "nbformat_minor": 2
}
