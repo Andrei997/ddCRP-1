{
 "cells": [
  {
   "cell_type": "markdown",
   "metadata": {},
   "source": [
    "# How to use **ddCRP**:  An example with synthetic data"
   ]
  },
  {
   "cell_type": "markdown",
   "metadata": {},
   "source": [
    "This notebook is analogous to the documentation contained in the ReadMe.md file.  We begin by importing the necessary modules.  *ddCRP* contains the actual modeling algorithm, *Priors* contains the allowed prior models (Normal-Inverse-Chi-Squared and Normal-Inverse-Wishart), and *synthetic* contains methods for sampling synthetic data."
   ]
  },
  {
   "cell_type": "code",
   "execution_count": 1,
   "metadata": {},
   "outputs": [],
   "source": [
    "from ddCRP import ddCRP\n",
    "from ddCRP import Priors\n",
    "from ddCRP import synthetic\n",
    "\n",
    "import numpy as np\n",
    "np.random.seed(seed=2)"
   ]
  },
  {
   "cell_type": "markdown",
   "metadata": {},
   "source": [
    "Next, we define some parameters for generating our synthetic data.  In this case, we are sampling our synthetic data from a *Normal-Inverse-Chi-Squared* model:\n",
    "\n",
    "$$\n",
    "(\\mu,\\sigma) \\sim NI \\chi^{2} (\\mu_{0},\\kappa_{0}; \\nu_{0},\\sigma^{2}_{0})\n",
    "$$\n",
    "\n",
    "where $\\mu_{0}$ and $\\kappa_{0}$ are priors on the feature means, while $\\nu_{0}$ and $\\sigma^{2}_{0}$ are priors on the feature variance.\n",
    "\n",
    "Here, for each unique label in our synthetic data, we sample $d$ unique means and variances, and then sample feature vectors from a multivariate normal distribution with independent features (a.k.a. diagonal covariance matrix, and hence the Normal-Inverse-Chi-Squared model).\n",
    "\n",
    "We could just as easily skip the Normal-Inverse-Chi-Squared aspect, and simply define a set of multivariate Normal distributions.  However, in this way, we can see how hyperparameter tuning of our ddCRP model relates to the hyperparameters of our synthetic data model."
   ]
  },
  {
   "cell_type": "code",
   "execution_count": 2,
   "metadata": {},
   "outputs": [],
   "source": [
    "# dimensionality of data\n",
    "d = 5\n",
    "\n",
    "mu = 0\n",
    "kappa = 0.01\n",
    "nu = 70\n",
    "sigma= 1"
   ]
  },
  {
   "cell_type": "markdown",
   "metadata": {},
   "source": [
    "Next, we initialize a **SampleSynthetic** object. ```kind=ell``` defines what type of synthetic data we are modeling.  Options for this parmeter include ```['ell', 'stripes', 'face', 'square']```."
   ]
  },
  {
   "cell_type": "code",
   "execution_count": 3,
   "metadata": {},
   "outputs": [
    {
     "name": "stdout",
     "output_type": "stream",
     "text": [
      "Attributes of synth: \n",
      "\n",
      "['kind', 'd', 'mu0', 'kappa0', 'nu0', 'sigma0', 'z_', 'adj_list_', 'parcels_', 'params_', 'parcel_features_', 'features_']\n"
     ]
    }
   ],
   "source": [
    "synth = synthetic.SampleSynthetic(kind='face', d=d, mu0=0, kappa0=kappa, nu0=nu, sigma0=sigma)\n",
    "synth.fit()\n",
    "\n",
    "print('Attributes of synth: \\n')\n",
    "print(list(synth.__dict__.keys()))"
   ]
  },
  {
   "cell_type": "markdown",
   "metadata": {},
   "source": [
    "We're specifically interested in ```z_```, ```adj_list_```, and ```features_```.  ```z_``` represents the ground truth label map of our synthetic data, ```adj_list_``` is the adjancey list of our samples, and ```features_``` are the multivariate feature vectors of our data.\n",
    "\n",
    "Next, we initialize our prior model.  In this case, we'll use the **Normal-Inverse-Wishart** prior.  We need to define a multivariate mean vector prior $\\bar{\\mu_{0}}$, and a prior on the covariance matrix $\\bar{\\lambda_{0}}$ (for the inverse-Wishart distribution), along with $\\kappa_{0}$ and $\\nu_{0}$ as above."
   ]
  },
  {
   "cell_type": "code",
   "execution_count": 4,
   "metadata": {},
   "outputs": [],
   "source": [
    "mu_bar = np.zeros((d,))\n",
    "lambda_bar = np.random.rand(d,d) + np.eye(d)\n",
    "\n",
    "niw = Priors.NIW(mu0=mu_bar,kappa0=kappa,nu0=nu,lambda0=lambda_bar)"
   ]
  },
  {
   "cell_type": "markdown",
   "metadata": {},
   "source": [
    "Finally, we can initialize our ddCRP model.  We first need to define a \"concentration parameter\", $\\alpha$, that determines how likely points are to create new clusters or join an existing cluster.  We also provide some arguments that govern how many MCMC iterations we want to perform, and how often we want to sample and print out diagnostic information regarding the current state of our model."
   ]
  },
  {
   "cell_type": "code",
   "execution_count": 5,
   "metadata": {},
   "outputs": [
    {
     "name": "stdout",
     "output_type": "stream",
     "text": [
      "Step: 0 Time: -1587252603.0114372 LP: -1064.6868011460178 K: 100 MaxLP: -1064.6868011460178\n",
      "Step: 125 Time: -1587252602.3886862 LP: 184.7466365740466 K: 65 MaxLP: 184.7466365740466\n",
      "Step: 250 Time: -1587252601.835362 LP: 988.7840042229969 K: 34 MaxLP: 988.7840042229969\n",
      "Step: 375 Time: -1587252601.324366 LP: 1662.7312349012925 K: 22 MaxLP: 1662.7312349012925\n",
      "Step: 500 Time: -1587252600.8339171 LP: 1868.0722210079293 K: 17 MaxLP: 1868.0722210079293\n",
      "Step: 625 Time: -1587252600.272433 LP: 2030.0555895447383 K: 14 MaxLP: 2030.0555895447385\n",
      "Step: 750 Time: -1587252599.7121432 LP: 2176.572271676666 K: 12 MaxLP: 2178.2580665198684\n",
      "Step: 875 Time: -1587252599.156625 LP: 2294.6996825559954 K: 9 MaxLP: 2294.699682555996\n",
      "Step: 1000 Time: -1587252598.598432 LP: 2601.569828585996 K: 8 MaxLP: 2601.569828585996\n",
      "Step: 1125 Time: -1587252598.040662 LP: 2601.569828585996 K: 8 MaxLP: 2601.569828585996\n",
      "Step: 1250 Time: -1587252597.4722722 LP: 2642.554447415887 K: 6 MaxLP: 2642.554447415887\n",
      "Step: 1375 Time: -1587252596.915604 LP: 2655.651151841964 K: 5 MaxLP: 2655.651151841964\n",
      "Step: 1500 Time: -1587252596.35322 LP: 2655.651151841964 K: 5 MaxLP: 2655.651151841964\n",
      "Step: 1625 Time: -1587252595.8019722 LP: 2653.3485667489695 K: 5 MaxLP: 2655.651151841964\n",
      "Step: 1750 Time: -1587252595.2277482 LP: 2653.3485667489695 K: 5 MaxLP: 2655.651151841964\n",
      "Step: 1875 Time: -1587252594.680649 LP: 2653.3485667489695 K: 5 MaxLP: 2655.651151841964\n",
      "Step: 2000 Time: -1587252594.13296 LP: 2655.651151841963 K: 5 MaxLP: 2655.651151841964\n",
      "Step: 2125 Time: -1587252593.5771332 LP: 2653.3485667489695 K: 5 MaxLP: 2655.651151841964\n",
      "Step: 2250 Time: -1587252593.035758 LP: 2655.651151841963 K: 5 MaxLP: 2655.651151841964\n",
      "Step: 2375 Time: -1587252592.476556 LP: 2655.651151841963 K: 5 MaxLP: 2655.651151841964\n",
      "Step: 2500 Time: -1587252591.94294 LP: 2655.651151841963 K: 5 MaxLP: 2655.651151841964\n",
      "Step: 2625 Time: -1587252591.363701 LP: 2655.651151841963 K: 5 MaxLP: 2655.651151841964\n",
      "Step: 2750 Time: -1587252590.8216631 LP: 2655.651151841963 K: 5 MaxLP: 2655.651151841964\n",
      "Step: 2875 Time: -1587252590.264784 LP: 2653.3485667489704 K: 5 MaxLP: 2655.651151841964\n",
      "Step: 3000 Time: -1587252589.709458 LP: 2655.6511518419647 K: 5 MaxLP: 2655.6511518419647\n",
      "Step: 3125 Time: -1587252589.1635861 LP: 2655.6511518419647 K: 5 MaxLP: 2655.6511518419647\n",
      "Step: 3250 Time: -1587252588.622975 LP: 2655.6511518419647 K: 5 MaxLP: 2655.6511518419647\n",
      "Step: 3375 Time: -1587252588.066852 LP: 2655.6511518419647 K: 5 MaxLP: 2655.6511518419647\n",
      "Step: 3500 Time: -1587252587.5141442 LP: 2655.6511518419647 K: 5 MaxLP: 2655.6511518419647\n",
      "Step: 3625 Time: -1587252586.9493282 LP: 2653.348566748972 K: 5 MaxLP: 2655.6511518419657\n",
      "Step: 3750 Time: -1587252586.403856 LP: 2653.348566748972 K: 5 MaxLP: 2655.6511518419657\n",
      "Step: 3875 Time: -1587252585.819941 LP: 2655.6511518419657 K: 5 MaxLP: 2655.651151841966\n",
      "Step: 4000 Time: -1587252585.2554111 LP: 2655.6511518419657 K: 5 MaxLP: 2655.651151841966\n",
      "Step: 4125 Time: -1587252584.692428 LP: 2655.6511518419657 K: 5 MaxLP: 2655.651151841966\n",
      "Step: 4250 Time: -1587252584.1500812 LP: 2653.348566748972 K: 5 MaxLP: 2655.651151841966\n",
      "Step: 4375 Time: -1587252583.6116521 LP: 2653.348566748972 K: 5 MaxLP: 2655.651151841966\n",
      "Step: 4500 Time: -1587252583.05758 LP: 2655.6511518419666 K: 5 MaxLP: 2655.6511518419666\n",
      "Step: 4625 Time: -1587252582.499747 LP: 2655.6511518419666 K: 5 MaxLP: 2655.6511518419666\n",
      "Step: 4750 Time: -1587252581.950774 LP: 2655.6511518419666 K: 5 MaxLP: 2655.6511518419666\n",
      "Step: 4860 Time: -1587252581.473151 LP: 2655.6511518419666 K: 5 MaxLP: 2655.6511518419666\n"
     ]
    }
   ],
   "source": [
    "alpha = 10\n",
    "\n",
    "crp = ddCRP.ddCRP(alpha, model=niw, mcmc_passes=15, stats_interval=125)\n",
    "crp.fit(synth.features_, synth.adj_list_)"
   ]
  },
  {
   "cell_type": "markdown",
   "metadata": {},
   "source": [
    "Now we can print out the our ground truth label map, the *maximum-a-posterior* label map (i.e. the label configuration that maximizes the marginal evidence of our feature data, and the intial (essentially random) map that the ddCRP model starts out with.  The actual label values (colors) are arbitrary, and don't convey any special meaning.\n",
    "\n",
    "Below the images are plots showing the number of clusters, marginal-evidence, and current *MAP*-evidence, each as a function of MCMC iterations (the sampling frequency is determined by the ```stats_interval``` parameter in the ddCRP model instantiation)."
   ]
  },
  {
   "cell_type": "code",
   "execution_count": 6,
   "metadata": {},
   "outputs": [
    {
     "data": {
      "image/png": "[encoded data removed]",
      "text/plain": [
       "<Figure size 720x432 with 6 Axes>"
      ]
     },
     "execution_count": 6,
     "metadata": {},
     "output_type": "execute_result"
    }
   ],
   "source": [
    "plot = synthetic.plot_synthetic(synth, crp, figsize=(10,6), cmap='plasma');\n",
    "plot"
   ]
  },
  {
   "cell_type": "code",
   "execution_count": null,
   "metadata": {},
   "outputs": [],
   "source": []
  }
 ],
 "metadata": {
  "kernelspec": {
   "display_name": "Python 3",
   "language": "python",
   "name": "python3"
  },
  "language_info": {
   "codemirror_mode": {
    "name": "ipython",
    "version": 3
   },
   "file_extension": ".py",
   "mimetype": "text/x-python",
   "name": "python",
   "nbconvert_exporter": "python",
   "pygments_lexer": "ipython3",
   "version": "3.7.2"
  }
 },
 "nbformat": 4,
 "nbformat_minor": 4
}
