{
 "cells": [
  {
   "cell_type": "code",
   "execution_count": 1,
   "metadata": {},
   "outputs": [],
   "source": [
    "from ddCRP import ddCRP\n",
    "from ddCRP import Priors\n",
    "\n",
    "from surface_utilities import adjacency\n",
    "\n",
    "import numpy as np\n",
    "import nibabel as nb\n",
    "from niio import loaded"
   ]
  },
  {
   "cell_type": "code",
   "execution_count": 2,
   "metadata": {},
   "outputs": [],
   "source": [
    "data_file = '/Users/kristianeschenburg/Desktop/Research/Data/CorticalRegionalization/Destrieux/RestingState/285345.L.Cortical.Regionalized.RestingState.aparc.a2009s.mat'\n",
    "label_file = '/Users/kristianeschenburg/Desktop/Research/Data/Labels/HCP/285345.L.CorticalAreas.fixed.32k_fs_LR.label.gii'\n",
    "surf_file = '/Users/kristianeschenburg/Desktop/Research/Data/Surfaces/285345.L.inflated.32k_fs_LR.surf.gii'"
   ]
  },
  {
   "cell_type": "code",
   "execution_count": 4,
   "metadata": {},
   "outputs": [],
   "source": [
    "# Load feature matrix\n",
    "data = loaded.load(data_file)\n",
    "[n,p] = data.shape\n",
    "if n < p:\n",
    "    data = data.T"
   ]
  },
  {
   "cell_type": "code",
   "execution_count": 154,
   "metadata": {},
   "outputs": [],
   "source": [
    "# Get indices of non-zero data samples\n",
    "indices = np.abs(data).sum(1) != 0\n",
    "idx = np.arange(data.shape[0])[indices]\n",
    "\n",
    "features = np.arange(data.shape[1])[np.var(data,axis=0) != 0]"
   ]
  },
  {
   "cell_type": "code",
   "execution_count": 3,
   "metadata": {},
   "outputs": [],
   "source": [
    "# Load surface, generate adjacency list\n",
    "surface = nb.load(surf_file)\n",
    "vertices = surface.darrays[0].data\n",
    "faces = surface.darrays[1].data\n",
    "\n",
    "S = adjacency.SurfaceAdjacency(vertices=vertices,faces=faces)\n",
    "S.generate()\n",
    "\n",
    "# Filter adjacency list\n",
    "filtered = S.filtration(filter_indices=indices,remap=True)"
   ]
  },
  {
   "cell_type": "code",
   "execution_count": 5,
   "metadata": {},
   "outputs": [],
   "source": [
    "# Load initial clustering\n",
    "label = loaded.load(label_file)"
   ]
  },
  {
   "cell_type": "code",
   "execution_count": 160,
   "metadata": {},
   "outputs": [],
   "source": [
    "# Filter data matrix and label array\n",
    "filtered_data = data[idx,:][:,features]\n",
    "init_z_filtered = label[idx]"
   ]
  },
  {
   "cell_type": "code",
   "execution_count": 9,
   "metadata": {},
   "outputs": [
    {
     "name": "stdout",
     "output_type": "stream",
     "text": [
      "(29696, 74)\n",
      "(29696,)\n"
     ]
    }
   ],
   "source": [
    "print(filtered_data.shape)\n",
    "print(init_z_filtered.shape)"
   ]
  },
  {
   "cell_type": "code",
   "execution_count": 10,
   "metadata": {},
   "outputs": [],
   "source": [
    "# Set hyperparameters for prior / likelihood model\n",
    "alpha = 0.1\n",
    "mu_bar = np.zeros((filtered_data.shape[1],))\n",
    "kappa = 0.01\n",
    "nu = 75\n",
    "lambda_bar = np.eye(len(mu_bar)) + np.cov(filtered_data.T)\n",
    "\n",
    "# Define prior\n",
    "niw = Priors.NIW(mu0 = mu_bar, kappa0=kappa, nu0=nu, lambda0=lambda_bar)"
   ]
  },
  {
   "cell_type": "code",
   "execution_count": 217,
   "metadata": {},
   "outputs": [
    {
     "data": {
      "text/plain": [
       "<module 'ddCRP.subgraphs' from '/Users/kristianeschenburg/Documents/Code/ddCRP/ddCRP/subgraphs.py'>"
      ]
     },
     "execution_count": 217,
     "metadata": {},
     "output_type": "execute_result"
    }
   ],
   "source": [
    "import importlib\n",
    "importlib.reload(ddCRP)\n",
    "importlib.reload(ddCRP.subgraphs)"
   ]
  },
  {
   "cell_type": "code",
   "execution_count": 19,
   "metadata": {},
   "outputs": [],
   "source": [
    "# Initialize ddCRP model\n",
    "crp = ddCRP.ddCRP(alpha=alpha, mcmc_passes=300, n_clusters=180, stats_interval=5, model=niw)"
   ]
  },
  {
   "cell_type": "code",
   "execution_count": 20,
   "metadata": {},
   "outputs": [
    {
     "name": "stdout",
     "output_type": "stream",
     "text": [
      "\n",
      "Full\n",
      "Step: 0 Time: -1536436467.702724 LP: -519220.74875746184 K: 1536 MaxLP: -519220.74875746184\n",
      "Step: 5 Time: -1536436463.3096519 LP: -519215.5688192227 K: 1536 MaxLP: -519215.5688192227\n",
      "Step: 10 Time: -1536436459.0855598 LP: -519209.31864710385 K: 1536 MaxLP: -519209.31864710385\n",
      "Step: 15 Time: -1536436454.822851 LP: -519209.31864710385 K: 1536 MaxLP: -519209.31864710385\n",
      "Step: 20 Time: -1536436450.5927489 LP: -519182.606576338 K: 1536 MaxLP: -519182.606576338\n",
      "Step: 25 Time: -1536436446.3535419 LP: -519182.606576338 K: 1536 MaxLP: -519182.606576338\n",
      "Step: 30 Time: -1536436442.116478 LP: -519182.606576338 K: 1536 MaxLP: -519182.606576338\n",
      "Step: 35 Time: -1536436437.891324 LP: -519182.606576338 K: 1536 MaxLP: -519182.606576338\n",
      "Step: 40 Time: -1536436433.682971 LP: -517620.88025039807 K: 1537 MaxLP: -517620.88025039807\n",
      "Step: 45 Time: -1536436429.4280539 LP: -517576.98330749397 K: 1537 MaxLP: -517576.98330749397\n",
      "Step: 50 Time: -1536436425.081526 LP: -517576.98330749397 K: 1537 MaxLP: -517576.98330749397\n"
     ]
    },
    {
     "ename": "KeyboardInterrupt",
     "evalue": "",
     "output_type": "error",
     "traceback": [
      "\u001b[0;31m---------------------------------------------------------------------------\u001b[0m",
      "\u001b[0;31mKeyboardInterrupt\u001b[0m                         Traceback (most recent call last)",
      "\u001b[0;32m<ipython-input-20-095a29b1160c>\u001b[0m in \u001b[0;36m<module>\u001b[0;34m()\u001b[0m\n\u001b[1;32m      1\u001b[0m \u001b[0;31m# Fit model\u001b[0m\u001b[0;34m\u001b[0m\u001b[0;34m\u001b[0m\u001b[0m\n\u001b[0;32m----> 2\u001b[0;31m \u001b[0mcrp\u001b[0m\u001b[0;34m.\u001b[0m\u001b[0mfit\u001b[0m\u001b[0;34m(\u001b[0m\u001b[0madj_list\u001b[0m\u001b[0;34m=\u001b[0m\u001b[0mfiltered\u001b[0m\u001b[0;34m,\u001b[0m\u001b[0mfeatures\u001b[0m\u001b[0;34m=\u001b[0m\u001b[0mfiltered_data\u001b[0m\u001b[0;34m,\u001b[0m\u001b[0minit_z\u001b[0m\u001b[0;34m=\u001b[0m\u001b[0minit_z_filtered\u001b[0m\u001b[0;34m)\u001b[0m\u001b[0;34m\u001b[0m\u001b[0m\n\u001b[0m",
      "\u001b[0;32m~/Documents/Code/ddCRP/ddCRP/ddCRP.py\u001b[0m in \u001b[0;36mfit\u001b[0;34m(self, features, adj_list, init_z, init_c, gt_z, edge_prior)\u001b[0m\n\u001b[1;32m    196\u001b[0m \u001b[0;34m\u001b[0m\u001b[0m\n\u001b[1;32m    197\u001b[0m                 \u001b[0mdeltaC\u001b[0m \u001b[0;34m=\u001b[0m \u001b[0mstatistics\u001b[0m\u001b[0;34m.\u001b[0m\u001b[0mdelta_C\u001b[0m\u001b[0;34m(\u001b[0m\u001b[0mparcels\u001b[0m\u001b[0;34m,\u001b[0m \u001b[0mparcels_new\u001b[0m\u001b[0;34m)\u001b[0m\u001b[0;34m\u001b[0m\u001b[0m\n\u001b[0;32m--> 198\u001b[0;31m                 \u001b[0mboundC\u001b[0m \u001b[0;34m=\u001b[0m \u001b[0mstatistics\u001b[0m\u001b[0;34m.\u001b[0m\u001b[0mboundaries\u001b[0m\u001b[0;34m(\u001b[0m\u001b[0mz_new\u001b[0m\u001b[0;34m,\u001b[0m \u001b[0madj_list\u001b[0m\u001b[0;34m)\u001b[0m\u001b[0;34m\u001b[0m\u001b[0m\n\u001b[0m\u001b[1;32m    199\u001b[0m                 \u001b[0mK\u001b[0m\u001b[0;34m,\u001b[0m \u001b[0mz\u001b[0m\u001b[0;34m,\u001b[0m \u001b[0mparcels\u001b[0m \u001b[0;34m=\u001b[0m \u001b[0mK_new\u001b[0m\u001b[0;34m,\u001b[0m \u001b[0mz_new\u001b[0m\u001b[0;34m,\u001b[0m \u001b[0mparcels_new\u001b[0m\u001b[0;34m\u001b[0m\u001b[0m\n\u001b[1;32m    200\u001b[0m                 \u001b[0msteps\u001b[0m \u001b[0;34m+=\u001b[0m \u001b[0;36m1\u001b[0m\u001b[0;34m\u001b[0m\u001b[0m\n",
      "\u001b[0;32m~/Documents/Code/ddCRP/ddCRP/statistics.py\u001b[0m in \u001b[0;36mboundaries\u001b[0;34m(label, adj_list, normed)\u001b[0m\n\u001b[1;32m     78\u001b[0m \u001b[0;34m\u001b[0m\u001b[0m\n\u001b[1;32m     79\u001b[0m     \u001b[0mbmap\u001b[0m \u001b[0;34m=\u001b[0m \u001b[0madjacency\u001b[0m\u001b[0;34m.\u001b[0m\u001b[0mBoundaryMap\u001b[0m\u001b[0;34m(\u001b[0m\u001b[0mlabel\u001b[0m\u001b[0;34m,\u001b[0m \u001b[0madj_list\u001b[0m\u001b[0;34m)\u001b[0m\u001b[0;34m\u001b[0m\u001b[0m\n\u001b[0;32m---> 80\u001b[0;31m     \u001b[0mbmap\u001b[0m\u001b[0;34m.\u001b[0m\u001b[0mfind_boundaries\u001b[0m\u001b[0;34m(\u001b[0m\u001b[0;34m)\u001b[0m\u001b[0;34m\u001b[0m\u001b[0m\n\u001b[0m\u001b[1;32m     81\u001b[0m     \u001b[0mboundC\u001b[0m \u001b[0;34m=\u001b[0m \u001b[0mbmap\u001b[0m\u001b[0;34m.\u001b[0m\u001b[0mboundaries\u001b[0m\u001b[0;34m.\u001b[0m\u001b[0msum\u001b[0m\u001b[0;34m(\u001b[0m\u001b[0;34m)\u001b[0m\u001b[0;34m\u001b[0m\u001b[0m\n\u001b[1;32m     82\u001b[0m \u001b[0;34m\u001b[0m\u001b[0m\n",
      "\u001b[0;32m~/Documents/Code/surface_utilities/surface_utilities/adjacency.py\u001b[0m in \u001b[0;36mfind_boundaries\u001b[0;34m(self)\u001b[0m\n\u001b[1;32m    216\u001b[0m \u001b[0;34m\u001b[0m\u001b[0m\n\u001b[1;32m    217\u001b[0m             \u001b[0mneighbors\u001b[0m \u001b[0;34m=\u001b[0m \u001b[0madj_list\u001b[0m\u001b[0;34m[\u001b[0m\u001b[0mk\u001b[0m\u001b[0;34m]\u001b[0m\u001b[0;34m\u001b[0m\u001b[0m\n\u001b[0;32m--> 218\u001b[0;31m             \u001b[0mnLabels\u001b[0m \u001b[0;34m=\u001b[0m \u001b[0mlist\u001b[0m\u001b[0;34m(\u001b[0m\u001b[0mset\u001b[0m\u001b[0;34m(\u001b[0m\u001b[0mlabel\u001b[0m\u001b[0;34m[\u001b[0m\u001b[0mneighbors\u001b[0m\u001b[0;34m]\u001b[0m\u001b[0;34m)\u001b[0m \u001b[0;34m-\u001b[0m \u001b[0mset\u001b[0m\u001b[0;34m(\u001b[0m\u001b[0;34m[\u001b[0m\u001b[0;36m0\u001b[0m\u001b[0;34m]\u001b[0m\u001b[0;34m)\u001b[0m\u001b[0;34m)\u001b[0m\u001b[0;34m\u001b[0m\u001b[0m\n\u001b[0m\u001b[1;32m    219\u001b[0m \u001b[0;34m\u001b[0m\u001b[0m\n\u001b[1;32m    220\u001b[0m             \u001b[0;32mif\u001b[0m \u001b[0mlen\u001b[0m\u001b[0;34m(\u001b[0m\u001b[0mset\u001b[0m\u001b[0;34m(\u001b[0m\u001b[0mnLabels\u001b[0m\u001b[0;34m)\u001b[0m\u001b[0;34m)\u001b[0m \u001b[0;34m>\u001b[0m \u001b[0;36m1\u001b[0m\u001b[0;34m:\u001b[0m\u001b[0;34m\u001b[0m\u001b[0m\n",
      "\u001b[0;31mKeyboardInterrupt\u001b[0m: "
     ]
    }
   ],
   "source": [
    "# Fit model\n",
    "crp.fit(adj_list=filtered,features=filtered_data,init_z=init_z_filtered)"
   ]
  },
  {
   "cell_type": "code",
   "execution_count": 161,
   "metadata": {},
   "outputs": [],
   "source": [
    "init_c = ddCRP.subgraphs.ClusterSpanningTrees(filtered, init_z_filtered).fit()"
   ]
  },
  {
   "cell_type": "code",
   "execution_count": 162,
   "metadata": {},
   "outputs": [],
   "source": [
    "[c, G] = ddCRP.subgraphs.sparse_linkage(filtered, len(init_c), init_c)"
   ]
  },
  {
   "cell_type": "code",
   "execution_count": 211,
   "metadata": {},
   "outputs": [
    {
     "data": {
      "text/plain": [
       "1412"
      ]
     },
     "execution_count": 211,
     "metadata": {},
     "output_type": "execute_result"
    }
   ],
   "source": [
    "len(roots)"
   ]
  },
  {
   "cell_type": "code",
   "execution_count": 218,
   "metadata": {},
   "outputs": [
    {
     "name": "stdout",
     "output_type": "stream",
     "text": [
      "Rand Root: 23638\n",
      "MST: 882\n",
      "Rand Root: 13779\n",
      "MST: 134\n",
      "Rand Root: 24035\n",
      "MST: 152\n",
      "Rand Root: 23764\n",
      "MST: 528\n",
      "Rand Root: 22738\n",
      "MST: 407\n",
      "Rand Root: 21738\n",
      "MST: 377\n",
      "Rand Root: 22507\n",
      "MST: 35\n",
      "Rand Root: 4227\n",
      "MST: 926\n",
      "Rand Root: 16284\n",
      "MST: 488\n",
      "Rand Root: 4182\n",
      "MST: 165\n",
      "Rand Root: 28141\n",
      "MST: 130\n",
      "Rand Root: 10365\n",
      "MST: 120\n",
      "Rand Root: 99\n",
      "MST: 227\n",
      "Rand Root: 24171\n",
      "MST: 282\n",
      "Rand Root: 10315\n",
      "MST: 44\n",
      "Rand Root: 12383\n",
      "MST: 103\n",
      "Rand Root: 22044\n",
      "MST: 142\n",
      "Rand Root: 12108\n",
      "MST: 74\n",
      "Rand Root: 13363\n",
      "MST: 31\n",
      "Rand Root: 21686\n",
      "MST: 65\n",
      "Rand Root: 22132\n",
      "MST: 40\n",
      "Rand Root: 13821\n",
      "MST: 26\n",
      "Rand Root: 7711\n",
      "MST: 257\n",
      "Rand Root: 3260\n",
      "MST: 192\n",
      "Rand Root: 1854\n",
      "MST: 176\n",
      "Rand Root: 7485\n",
      "MST: 96\n",
      "Rand Root: 10806\n",
      "MST: 120\n",
      "Rand Root: 11478\n",
      "MST: 113\n",
      "Rand Root: 24279\n",
      "MST: 260\n",
      "Rand Root: 594\n",
      "MST: 68\n",
      "Rand Root: 24407\n",
      "MST: 65\n",
      "Rand Root: 111\n",
      "MST: 47\n",
      "Rand Root: 1890\n",
      "MST: 167\n",
      "Rand Root: 2358\n",
      "MST: 110\n",
      "Rand Root: 2471\n",
      "MST: 100\n",
      "Rand Root: 2423\n",
      "MST: 304\n",
      "Rand Root: 10198\n",
      "MST: 219\n",
      "Rand Root: 2796\n",
      "MST: 192\n",
      "Rand Root: 1068\n",
      "MST: 124\n",
      "Rand Root: 10778\n",
      "MST: 185\n",
      "Rand Root: 622\n",
      "MST: 233\n",
      "Rand Root: 4823\n",
      "MST: 160\n",
      "Rand Root: 10777\n",
      "MST: 177\n",
      "Rand Root: 10484\n",
      "MST: 39\n",
      "Rand Root: 5268\n",
      "MST: 174\n",
      "Rand Root: 12828\n",
      "MST: 146\n",
      "Rand Root: 10537\n",
      "MST: 203\n",
      "Rand Root: 12624\n",
      "MST: 134\n",
      "Rand Root: 6385\n",
      "MST: 375\n",
      "Rand Root: 5644\n",
      "MST: 501\n",
      "Rand Root: 3845\n",
      "MST: 377\n",
      "Rand Root: 4050\n",
      "MST: 123\n",
      "Rand Root: 4598\n",
      "MST: 251\n",
      "Rand Root: 17819\n",
      "MST: 163\n",
      "Rand Root: 1242\n",
      "MST: 110\n",
      "Rand Root: 1396\n",
      "MST: 50\n",
      "Rand Root: 1574\n",
      "MST: 13\n",
      "Rand Root: 1026\n",
      "MST: 129\n",
      "Rand Root: 25793\n",
      "MST: 66\n",
      "Rand Root: 26290\n",
      "MST: 113\n",
      "Rand Root: 1415\n",
      "MST: 195\n",
      "Rand Root: 25574\n",
      "MST: 101\n",
      "Rand Root: 25394\n",
      "MST: 85\n",
      "Rand Root: 18163\n",
      "MST: 43\n",
      "Rand Root: 27609\n",
      "MST: 180\n",
      "Rand Root: 27009\n",
      "MST: 275\n",
      "Rand Root: 25706\n",
      "MST: 278\n",
      "Rand Root: 26664\n",
      "MST: 186\n",
      "Rand Root: 26240\n",
      "MST: 134\n",
      "Rand Root: 25998\n",
      "MST: 199\n",
      "Rand Root: 17663\n",
      "MST: 289\n",
      "Rand Root: 16963\n",
      "MST: 114\n",
      "Rand Root: 9899\n",
      "MST: 192\n",
      "Rand Root: 9875\n",
      "MST: 123\n",
      "Rand Root: 18145\n",
      "MST: 176\n",
      "Rand Root: 17491\n",
      "MST: 276\n",
      "Rand Root: 17311\n",
      "MST: 107\n",
      "Rand Root: 17977\n",
      "MST: 107\n",
      "Rand Root: 17356\n",
      "MST: 110\n",
      "Rand Root: 16624\n",
      "MST: 145\n",
      "Rand Root: 17247\n",
      "MST: 110\n",
      "Rand Root: 27166\n",
      "MST: 283\n",
      "Rand Root: 18351\n",
      "MST: 91\n",
      "Rand Root: 26747\n",
      "MST: 236\n",
      "Rand Root: 26026\n",
      "MST: 140\n",
      "Rand Root: 19456\n",
      "MST: 87\n",
      "Rand Root: 18676\n",
      "MST: 29\n",
      "Rand Root: 19151\n",
      "MST: 179\n",
      "Rand Root: 18550\n",
      "MST: 129\n",
      "Rand Root: 18612\n",
      "MST: 154\n",
      "Rand Root: 19361\n",
      "MST: 310\n",
      "Rand Root: 18167\n",
      "MST: 127\n",
      "Rand Root: 12742\n",
      "MST: 118\n",
      "Rand Root: 4555\n",
      "MST: 346\n",
      "Rand Root: 27898\n",
      "MST: 115\n",
      "Rand Root: 27206\n",
      "MST: 48\n",
      "Rand Root: 17218\n",
      "MST: 123\n",
      "Rand Root: 15759\n",
      "MST: 219\n",
      "Rand Root: 15432\n",
      "MST: 116\n",
      "Rand Root: 16591\n",
      "MST: 58\n",
      "Rand Root: 8081\n",
      "MST: 207\n",
      "Rand Root: 6712\n",
      "MST: 155\n",
      "Rand Root: 8576\n",
      "MST: 158\n",
      "Rand Root: 28541\n",
      "MST: 76\n",
      "Rand Root: 16713\n",
      "MST: 186\n",
      "Rand Root: 9076\n",
      "MST: 151\n",
      "Rand Root: 9400\n",
      "MST: 138\n",
      "Rand Root: 9188\n",
      "MST: 97\n",
      "Rand Root: 9091\n",
      "MST: 145\n",
      "Rand Root: 5055\n",
      "MST: 252\n",
      "Rand Root: 5322\n",
      "MST: 324\n",
      "Rand Root: 24707\n",
      "MST: 41\n",
      "Rand Root: 24891\n",
      "MST: 186\n",
      "Rand Root: 24773\n",
      "MST: 243\n",
      "Rand Root: 24072\n",
      "MST: 196\n",
      "Rand Root: 20874\n",
      "MST: 331\n",
      "Rand Root: 28580\n",
      "MST: 61\n",
      "Rand Root: 8016\n",
      "MST: 98\n",
      "Rand Root: 6759\n",
      "MST: 177\n",
      "Rand Root: 547\n",
      "MST: 103\n",
      "Rand Root: 21097\n",
      "MST: 148\n",
      "Rand Root: 29185\n",
      "MST: 180\n",
      "Rand Root: 7763\n",
      "MST: 119\n",
      "Rand Root: 29497\n",
      "MST: 231\n",
      "Rand Root: 8757\n",
      "MST: 488\n",
      "Rand Root: 29350\n",
      "MST: 91\n",
      "Rand Root: 20299\n",
      "MST: 271\n",
      "Rand Root: 19661\n",
      "MST: 269\n",
      "Rand Root: 20997\n",
      "MST: 232\n",
      "Rand Root: 20870\n",
      "MST: 241\n",
      "Rand Root: 21565\n",
      "MST: 183\n",
      "Rand Root: 13326\n",
      "MST: 234\n",
      "Rand Root: 7529\n",
      "MST: 91\n",
      "Rand Root: 13964\n",
      "MST: 165\n",
      "Rand Root: 13991\n",
      "MST: 79\n",
      "Rand Root: 10953\n",
      "MST: 67\n",
      "Rand Root: 13942\n",
      "MST: 118\n",
      "Rand Root: 12097\n",
      "MST: 195\n",
      "Rand Root: 12364\n",
      "MST: 190\n",
      "Rand Root: 11815\n",
      "MST: 164\n",
      "Rand Root: 15991\n",
      "MST: 164\n",
      "Rand Root: 15271\n",
      "MST: 268\n",
      "Rand Root: 6627\n",
      "MST: 493\n",
      "Rand Root: 14772\n",
      "MST: 536\n",
      "Rand Root: 14669\n",
      "MST: 320\n",
      "Rand Root: 10658\n",
      "MST: 41\n",
      "Rand Root: 578\n",
      "MST: 75\n",
      "Rand Root: 24681\n",
      "MST: 60\n",
      "Rand Root: 13311\n",
      "MST: 16\n",
      "Rand Root: 21520\n",
      "MST: 137\n",
      "Rand Root: 13658\n",
      "MST: 51\n",
      "Rand Root: 13769\n",
      "MST: 64\n",
      "Rand Root: 21281\n",
      "MST: 12\n",
      "Rand Root: 11587\n",
      "MST: 94\n",
      "Rand Root: 1947\n",
      "MST: 62\n",
      "Rand Root: 21197\n",
      "MST: 118\n",
      "Rand Root: 19611\n",
      "MST: 69\n",
      "Rand Root: 25165\n",
      "MST: 59\n",
      "Rand Root: 18981\n",
      "MST: 254\n",
      "Rand Root: 8862\n",
      "MST: 112\n",
      "Rand Root: 9583\n",
      "MST: 133\n",
      "Rand Root: 25328\n",
      "MST: 100\n",
      "Rand Root: 9954\n",
      "MST: 119\n",
      "Rand Root: 20226\n",
      "MST: 16\n",
      "Rand Root: 28405\n",
      "MST: 78\n",
      "Rand Root: 8286\n",
      "MST: 255\n",
      "Rand Root: 7680\n",
      "MST: 151\n",
      "Rand Root: 29176\n",
      "MST: 115\n",
      "Rand Root: 29444\n",
      "MST: 99\n",
      "Rand Root: 8505\n",
      "MST: 289\n",
      "Rand Root: 1518\n",
      "MST: 175\n",
      "Rand Root: 25911\n",
      "MST: 37\n",
      "Total Rand Roots: 172\n"
     ]
    }
   ],
   "source": [
    "[c, rand_roots, roots] = ddCRP.subgraphs.ClusterSpanningTrees(filtered, init_z_filtered).fit()"
   ]
  },
  {
   "cell_type": "code",
   "execution_count": 219,
   "metadata": {},
   "outputs": [
    {
     "data": {
      "text/plain": [
       "array([    4,    65,    66, ..., 29350, 29444, 29497])"
      ]
     },
     "execution_count": 219,
     "metadata": {},
     "output_type": "execute_result"
    }
   ],
   "source": [
    "roots"
   ]
  },
  {
   "cell_type": "code",
   "execution_count": null,
   "metadata": {},
   "outputs": [],
   "source": []
  },
  {
   "cell_type": "code",
   "execution_count": 224,
   "metadata": {},
   "outputs": [],
   "source": [
    "non_rands = list(set(roots).difference(set(rand_roots)))"
   ]
  },
  {
   "cell_type": "code",
   "execution_count": 248,
   "metadata": {},
   "outputs": [
    {
     "name": "stdout",
     "output_type": "stream",
     "text": [
      "(29696,)\n"
     ]
    }
   ],
   "source": [
    "a = np.asarray(G[non_rands[2],:].todense()).squeeze()\n",
    "print(a.shape)"
   ]
  },
  {
   "cell_type": "code",
   "execution_count": 249,
   "metadata": {},
   "outputs": [
    {
     "data": {
      "text/plain": [
       "(array([16397]),)"
      ]
     },
     "execution_count": 249,
     "metadata": {},
     "output_type": "execute_result"
    }
   ],
   "source": [
    "np.where(a)"
   ]
  },
  {
   "cell_type": "code",
   "execution_count": 235,
   "metadata": {},
   "outputs": [
    {
     "data": {
      "text/plain": [
       "(array([0]), array([16386]))"
      ]
     },
     "execution_count": 235,
     "metadata": {},
     "output_type": "execute_result"
    }
   ],
   "source": [
    "np.where(a.todense())"
   ]
  },
  {
   "cell_type": "code",
   "execution_count": 166,
   "metadata": {},
   "outputs": [
    {
     "name": "stdout",
     "output_type": "stream",
     "text": [
      "Parcels: 1345\n"
     ]
    }
   ],
   "source": [
    "[K, z, parcels] = ddCRP.subgraphs.connected_components(G)\n",
    "print('Parcels: {:}'.format(K))"
   ]
  },
  {
   "cell_type": "code",
   "execution_count": 197,
   "metadata": {},
   "outputs": [
    {
     "name": "stdout",
     "output_type": "stream",
     "text": [
      "Groups: 172\n"
     ]
    }
   ],
   "source": [
    "g = np.zeros((32492,))\n",
    "t = np.zeros((32492,))\n",
    "\n",
    "c = 0\n",
    "for u in np.unique(z):\n",
    "    \n",
    "    f = np.where(z == u)[0]\n",
    "    \n",
    "    if len(f) > 1:\n",
    "        g[idx[f]] = u\n",
    "        c += 1\n",
    "        \n",
    "    if len(f) == 1:\n",
    "        t[idx[f]] = idx[f]\n",
    "        \n",
    "print('Groups: {:}'.format(c))"
   ]
  },
  {
   "cell_type": "code",
   "execution_count": 202,
   "metadata": {},
   "outputs": [
    {
     "data": {
      "text/plain": [
       "1356"
      ]
     },
     "execution_count": 202,
     "metadata": {},
     "output_type": "execute_result"
    }
   ],
   "source": [
    "len(roots)"
   ]
  },
  {
   "cell_type": "code",
   "execution_count": 201,
   "metadata": {},
   "outputs": [
    {
     "data": {
      "text/plain": [
       "1174"
      ]
     },
     "execution_count": 201,
     "metadata": {},
     "output_type": "execute_result"
    }
   ],
   "source": [
    "len(np.unique(t))"
   ]
  },
  {
   "cell_type": "code",
   "execution_count": null,
   "metadata": {},
   "outputs": [],
   "source": []
  }
 ],
 "metadata": {
  "kernelspec": {
   "display_name": "Python 3",
   "language": "python",
   "name": "python3"
  },
  "language_info": {
   "codemirror_mode": {
    "name": "ipython",
    "version": 3
   },
   "file_extension": ".py",
   "mimetype": "text/x-python",
   "name": "python",
   "nbconvert_exporter": "python",
   "pygments_lexer": "ipython3",
   "version": "3.6.5"
  }
 },
 "nbformat": 4,
 "nbformat_minor": 2
}
